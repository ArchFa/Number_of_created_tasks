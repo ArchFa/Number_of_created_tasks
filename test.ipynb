{
 "cells": [
  {
   "cell_type": "code",
   "execution_count": 1,
   "metadata": {},
   "outputs": [],
   "source": [
    "import pandas as pd\n",
    "import streamlit as st"
   ]
  },
  {
   "cell_type": "code",
   "execution_count": 2,
   "metadata": {},
   "outputs": [],
   "source": [
    "#df = pd.read_csv('/Users/arturfattahov/Desktop/users_2.csv', sep='|')"
   ]
  },
  {
   "cell_type": "code",
   "execution_count": 16,
   "metadata": {},
   "outputs": [],
   "source": [
    "uploaded_file = st.file_uploader(\"Choose a file\")\n",
    "if uploaded_file is not None:\n",
    "     dataframe = pd.read_csv(uploaded_file, sep='|')\n",
    "     df = df.dropna()\n",
    "     df.columns = ['id_user', 'id_task', 'platform', 'case']\n",
    "     st.write(dataframe)"
   ]
  },
  {
   "cell_type": "code",
   "execution_count": 5,
   "metadata": {},
   "outputs": [],
   "source": [
    "df = df.sort_values(by='id_user')"
   ]
  },
  {
   "cell_type": "code",
   "execution_count": 6,
   "metadata": {},
   "outputs": [],
   "source": [
    "df_n = df.query('platform != [\" admins   \", \"          \"] ')\n",
    "df_provider = df.query('case == \" provider\" & platform != \" admins   \"')\n",
    "df_executor = df.query('case == \" executor\" & platform != \" admins   \"')\n",
    "df_users = df.query('platform != \" admins   \"')"
   ]
  },
  {
   "cell_type": "code",
   "execution_count": 9,
   "metadata": {},
   "outputs": [],
   "source": [
    "# фильтры\n",
    "# провайдеры, которые создали хотя бы одну задачу\n",
    "creat_more_one_task_prov = df_n.query('case == \" provider\"').nunique()\n",
    "\n",
    "# общее число провайдеров\n",
    "all_provider = df_provider['id_user'].nunique()\n",
    "\n",
    "# заказчики, которые создали хотя бы одну задачу\n",
    "creat_more_one_task_exe = df_n.query('case == \" executor\"').nunique()\n",
    "\n",
    "# общее число заказчиков\n",
    "all_executor = df_executor['id_user'].nunique()\n",
    "\n",
    "# пользователи, которые создали хотя бы одну задачу\n",
    "creat_more_one_task = df_n['id_user'].nunique()\n",
    "\n",
    "# общее количество пользователей\n",
    "number_users = df_users['id_user'].nunique()"
   ]
  },
  {
   "cell_type": "code",
   "execution_count": null,
   "metadata": {},
   "outputs": [],
   "source": [
    "# print('Количество провайдеров, которые создали хотя бы одну задачу:', creat_more_one_task_prov[0])\n",
    "# print('Количество заказчиков, которые создали хотя бы одну задачу:', creat_more_one_task_exe[0])\n",
    "\n",
    "\n",
    "\n",
    "# display('Процент провайдеров, которые создали хотя бы одну задачу: {:.0f}%'\n",
    "#         .format(creat_more_one_task_prov[0] * 100 / all_provider))\n",
    "\n",
    "# display('Процент заказчиков, которые создали хотя бы одну задачу: {:.0f}%'\n",
    "#         .format(creat_more_one_task_exe[0] * 100 / all_executor))\n",
    "\n",
    "# display('Процент пользователей, которые создали хотя бы одну задачу: {:.0f}%'\n",
    "#         .format(creat_more_one_task * 100 / number_users))"
   ]
  },
  {
   "cell_type": "code",
   "execution_count": 14,
   "metadata": {},
   "outputs": [],
   "source": [
    "tt = creat_more_one_task_prov[0] * 100 / all_provider\n",
    "mm = creat_more_one_task_exe[0] * 100 / all_executor\n",
    "ii = creat_more_one_task * 100 / number_users"
   ]
  },
  {
   "cell_type": "code",
   "execution_count": 10,
   "metadata": {},
   "outputs": [
    {
     "name": "stderr",
     "output_type": "stream",
     "text": [
      "2022-04-21 18:17:49.979 \n",
      "  \u001b[33m\u001b[1mWarning:\u001b[0m to view this Streamlit app on a browser, run it with the following\n",
      "  command:\n",
      "\n",
      "    streamlit run /Users/arturfattahov/Library/Python/3.10/lib/python/site-packages/ipykernel_launcher.py [ARGUMENTS]\n"
     ]
    }
   ],
   "source": [
    "st.write('Количество провайдеров, которые создали хотя бы одну задачу:', creat_more_one_task_prov[0])"
   ]
  },
  {
   "cell_type": "code",
   "execution_count": 11,
   "metadata": {},
   "outputs": [],
   "source": [
    "st.write('Количество заказчиков, которые создали хотя бы одну задачу:', creat_more_one_task_exe[0])"
   ]
  },
  {
   "cell_type": "code",
   "execution_count": 13,
   "metadata": {},
   "outputs": [],
   "source": [
    "st.write('Процент провайдеров, которые создали хотя бы одну задачу:', tt)"
   ]
  },
  {
   "cell_type": "code",
   "execution_count": 15,
   "metadata": {},
   "outputs": [],
   "source": [
    "st.write('Процент заказчиков, которые создали хотя бы одну задачу:', mm)"
   ]
  },
  {
   "cell_type": "code",
   "execution_count": null,
   "metadata": {},
   "outputs": [],
   "source": [
    "st.write('Процент пользователей, которые создали хотя бы одну задачу:', ii)"
   ]
  }
 ],
 "metadata": {
  "interpreter": {
   "hash": "aee8b7b246df8f9039afb4144a1f6fd8d2ca17a180786b69acc140d282b71a49"
  },
  "kernelspec": {
   "display_name": "Python 3.10.4 64-bit",
   "language": "python",
   "name": "python3"
  },
  "language_info": {
   "codemirror_mode": {
    "name": "ipython",
    "version": 3
   },
   "file_extension": ".py",
   "mimetype": "text/x-python",
   "name": "python",
   "nbconvert_exporter": "python",
   "pygments_lexer": "ipython3",
   "version": "3.10.4"
  },
  "orig_nbformat": 4
 },
 "nbformat": 4,
 "nbformat_minor": 2
}
